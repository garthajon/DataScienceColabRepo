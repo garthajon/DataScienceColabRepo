{
 "cells": [
  {
   "cell_type": "code",
   "execution_count": 3,
   "id": "c62d83ef-e21b-4e24-9a91-a8b14a353973",
   "metadata": {
    "tags": []
   },
   "outputs": [],
   "source": [
    "from google.cloud import bigquery\n",
    "\n",
    "client = bigquery.Client()"
   ]
  },
  {
   "cell_type": "code",
   "execution_count": null,
   "id": "e13ceea5-40e0-4334-be2a-3162e161f8ee",
   "metadata": {},
   "outputs": [],
   "source": []
  },
  {
   "cell_type": "code",
   "execution_count": 4,
   "id": "dbdf29a8-1e41-4c35-85e7-2539daae3713",
   "metadata": {
    "tags": []
   },
   "outputs": [
    {
     "data": {
      "text/html": [
       "<div>\n",
       "<style scoped>\n",
       "    .dataframe tbody tr th:only-of-type {\n",
       "        vertical-align: middle;\n",
       "    }\n",
       "\n",
       "    .dataframe tbody tr th {\n",
       "        vertical-align: top;\n",
       "    }\n",
       "\n",
       "    .dataframe thead th {\n",
       "        text-align: right;\n",
       "    }\n",
       "</style>\n",
       "<table border=\"1\" class=\"dataframe\">\n",
       "  <thead>\n",
       "    <tr style=\"text-align: right;\">\n",
       "      <th></th>\n",
       "      <th>city</th>\n",
       "      <th>sequence</th>\n",
       "      <th>sessionname</th>\n",
       "      <th>time</th>\n",
       "      <th>drivername</th>\n",
       "      <th>car_number</th>\n",
       "      <th>tv_acc_x</th>\n",
       "      <th>tv_acc_y</th>\n",
       "      <th>tv_steer</th>\n",
       "      <th>tv_brake</th>\n",
       "      <th>tv_gps_head</th>\n",
       "      <th>tv_gps_lat</th>\n",
       "      <th>tv_gps_long</th>\n",
       "      <th>tv_speed</th>\n",
       "      <th>tv_yaw_rate</th>\n",
       "    </tr>\n",
       "  </thead>\n",
       "  <tbody>\n",
       "    <tr>\n",
       "      <th>0</th>\n",
       "      <td>BER</td>\n",
       "      <td>10</td>\n",
       "      <td>Race</td>\n",
       "      <td>2024-05-12 13:03:07.534000+00:00</td>\n",
       "      <td>DENNIS, Jake</td>\n",
       "      <td>1</td>\n",
       "      <td>-0.184</td>\n",
       "      <td>0.047</td>\n",
       "      <td>2183.9</td>\n",
       "      <td>17.0</td>\n",
       "      <td>47.83372</td>\n",
       "      <td>52.480017</td>\n",
       "      <td>13.392943</td>\n",
       "      <td>15.78</td>\n",
       "      <td>-1.405</td>\n",
       "    </tr>\n",
       "    <tr>\n",
       "      <th>1</th>\n",
       "      <td>BER</td>\n",
       "      <td>10</td>\n",
       "      <td>Race</td>\n",
       "      <td>2024-05-12 13:03:07.584000+00:00</td>\n",
       "      <td>DENNIS, Jake</td>\n",
       "      <td>1</td>\n",
       "      <td>-0.245</td>\n",
       "      <td>0.005</td>\n",
       "      <td>2188.6</td>\n",
       "      <td>17.0</td>\n",
       "      <td>47.83372</td>\n",
       "      <td>52.480020</td>\n",
       "      <td>13.392948</td>\n",
       "      <td>15.67</td>\n",
       "      <td>-1.405</td>\n",
       "    </tr>\n",
       "    <tr>\n",
       "      <th>2</th>\n",
       "      <td>BER</td>\n",
       "      <td>10</td>\n",
       "      <td>Race</td>\n",
       "      <td>2024-05-12 13:03:08.338000+00:00</td>\n",
       "      <td>DENNIS, Jake</td>\n",
       "      <td>1</td>\n",
       "      <td>-0.171</td>\n",
       "      <td>0.062</td>\n",
       "      <td>2195.2</td>\n",
       "      <td>11.0</td>\n",
       "      <td>47.50113</td>\n",
       "      <td>52.480035</td>\n",
       "      <td>13.392977</td>\n",
       "      <td>12.22</td>\n",
       "      <td>1.161</td>\n",
       "    </tr>\n",
       "    <tr>\n",
       "      <th>3</th>\n",
       "      <td>BER</td>\n",
       "      <td>10</td>\n",
       "      <td>Race</td>\n",
       "      <td>2024-05-12 13:03:08.384000+00:00</td>\n",
       "      <td>DENNIS, Jake</td>\n",
       "      <td>1</td>\n",
       "      <td>-0.152</td>\n",
       "      <td>0.043</td>\n",
       "      <td>2195.1</td>\n",
       "      <td>12.0</td>\n",
       "      <td>47.45835</td>\n",
       "      <td>52.480038</td>\n",
       "      <td>13.392981</td>\n",
       "      <td>12.06</td>\n",
       "      <td>1.161</td>\n",
       "    </tr>\n",
       "    <tr>\n",
       "      <th>4</th>\n",
       "      <td>BER</td>\n",
       "      <td>10</td>\n",
       "      <td>Race</td>\n",
       "      <td>2024-05-12 13:11:18.740000+00:00</td>\n",
       "      <td>DENNIS, Jake</td>\n",
       "      <td>1</td>\n",
       "      <td>-0.562</td>\n",
       "      <td>0.481</td>\n",
       "      <td>1109.2</td>\n",
       "      <td>57.0</td>\n",
       "      <td>216.85422</td>\n",
       "      <td>52.480375</td>\n",
       "      <td>13.391335</td>\n",
       "      <td>185.79</td>\n",
       "      <td>-1.527</td>\n",
       "    </tr>\n",
       "  </tbody>\n",
       "</table>\n",
       "</div>"
      ],
      "text/plain": [
       "  city  sequence sessionname                             time    drivername  \\\n",
       "0  BER        10        Race 2024-05-12 13:03:07.534000+00:00  DENNIS, Jake   \n",
       "1  BER        10        Race 2024-05-12 13:03:07.584000+00:00  DENNIS, Jake   \n",
       "2  BER        10        Race 2024-05-12 13:03:08.338000+00:00  DENNIS, Jake   \n",
       "3  BER        10        Race 2024-05-12 13:03:08.384000+00:00  DENNIS, Jake   \n",
       "4  BER        10        Race 2024-05-12 13:11:18.740000+00:00  DENNIS, Jake   \n",
       "\n",
       "   car_number  tv_acc_x  tv_acc_y  tv_steer  tv_brake  tv_gps_head  \\\n",
       "0           1    -0.184     0.047    2183.9      17.0     47.83372   \n",
       "1           1    -0.245     0.005    2188.6      17.0     47.83372   \n",
       "2           1    -0.171     0.062    2195.2      11.0     47.50113   \n",
       "3           1    -0.152     0.043    2195.1      12.0     47.45835   \n",
       "4           1    -0.562     0.481    1109.2      57.0    216.85422   \n",
       "\n",
       "   tv_gps_lat  tv_gps_long  tv_speed  tv_yaw_rate  \n",
       "0   52.480017    13.392943     15.78       -1.405  \n",
       "1   52.480020    13.392948     15.67       -1.405  \n",
       "2   52.480035    13.392977     12.22        1.161  \n",
       "3   52.480038    13.392981     12.06        1.161  \n",
       "4   52.480375    13.391335    185.79       -1.527  "
      ]
     },
     "execution_count": 4,
     "metadata": {},
     "output_type": "execute_result"
    }
   ],
   "source": [
    "sql = \"\"\"\n",
    "SELECT * from fe_hackathon_ldn_24.berlin_race10_telemetry\n",
    ";\n",
    "\"\"\"\n",
    "Berlin_race_10_data = client.query(sql).to_dataframe()\n",
    "\n",
    "Berlin_race_10_data.head()"
   ]
  },
  {
   "cell_type": "code",
   "execution_count": 5,
   "id": "5de2deeb-af50-4b32-96b9-93fc29cb06ae",
   "metadata": {
    "tags": []
   },
   "outputs": [
    {
     "data": {
      "text/html": [
       "<div>\n",
       "<style scoped>\n",
       "    .dataframe tbody tr th:only-of-type {\n",
       "        vertical-align: middle;\n",
       "    }\n",
       "\n",
       "    .dataframe tbody tr th {\n",
       "        vertical-align: top;\n",
       "    }\n",
       "\n",
       "    .dataframe thead th {\n",
       "        text-align: right;\n",
       "    }\n",
       "</style>\n",
       "<table border=\"1\" class=\"dataframe\">\n",
       "  <thead>\n",
       "    <tr style=\"text-align: right;\">\n",
       "      <th></th>\n",
       "      <th>city</th>\n",
       "      <th>sequence</th>\n",
       "      <th>sessionname</th>\n",
       "      <th>time</th>\n",
       "      <th>drivername</th>\n",
       "      <th>car_number</th>\n",
       "      <th>tv_acc_x</th>\n",
       "      <th>tv_acc_y</th>\n",
       "      <th>tv_steer</th>\n",
       "      <th>tv_brake</th>\n",
       "      <th>tv_gps_head</th>\n",
       "      <th>tv_gps_lat</th>\n",
       "      <th>tv_gps_long</th>\n",
       "      <th>tv_speed</th>\n",
       "      <th>tv_yaw_rate</th>\n",
       "    </tr>\n",
       "  </thead>\n",
       "  <tbody>\n",
       "    <tr>\n",
       "      <th>0</th>\n",
       "      <td>BER</td>\n",
       "      <td>9</td>\n",
       "      <td>Race</td>\n",
       "      <td>2024-05-11 13:03:40.302000+00:00</td>\n",
       "      <td>DENNIS, Jake</td>\n",
       "      <td>1</td>\n",
       "      <td>-0.021</td>\n",
       "      <td>0.078</td>\n",
       "      <td>3276.7</td>\n",
       "      <td>9.0</td>\n",
       "      <td>47.14096</td>\n",
       "      <td>52.479165</td>\n",
       "      <td>13.391210</td>\n",
       "      <td>16.03</td>\n",
       "      <td>0.672</td>\n",
       "    </tr>\n",
       "    <tr>\n",
       "      <th>1</th>\n",
       "      <td>BER</td>\n",
       "      <td>9</td>\n",
       "      <td>Race</td>\n",
       "      <td>2024-05-11 13:18:32.527000+00:00</td>\n",
       "      <td>DENNIS, Jake</td>\n",
       "      <td>1</td>\n",
       "      <td>-0.334</td>\n",
       "      <td>0.068</td>\n",
       "      <td>3276.7</td>\n",
       "      <td>40.0</td>\n",
       "      <td>268.65608</td>\n",
       "      <td>52.482312</td>\n",
       "      <td>13.395855</td>\n",
       "      <td>38.87</td>\n",
       "      <td>3.177</td>\n",
       "    </tr>\n",
       "    <tr>\n",
       "      <th>2</th>\n",
       "      <td>BER</td>\n",
       "      <td>9</td>\n",
       "      <td>Race</td>\n",
       "      <td>2024-05-11 13:54:19.352000+00:00</td>\n",
       "      <td>DENNIS, Jake</td>\n",
       "      <td>1</td>\n",
       "      <td>0.746</td>\n",
       "      <td>1.608</td>\n",
       "      <td>3276.7</td>\n",
       "      <td>41.0</td>\n",
       "      <td>164.45111</td>\n",
       "      <td>52.481996</td>\n",
       "      <td>13.395312</td>\n",
       "      <td>74.68</td>\n",
       "      <td>3.177</td>\n",
       "    </tr>\n",
       "    <tr>\n",
       "      <th>3</th>\n",
       "      <td>BER</td>\n",
       "      <td>9</td>\n",
       "      <td>Race</td>\n",
       "      <td>2024-05-11 13:54:19.403000+00:00</td>\n",
       "      <td>DENNIS, Jake</td>\n",
       "      <td>1</td>\n",
       "      <td>-0.677</td>\n",
       "      <td>1.596</td>\n",
       "      <td>3276.7</td>\n",
       "      <td>66.0</td>\n",
       "      <td>160.93564</td>\n",
       "      <td>52.481978</td>\n",
       "      <td>13.395322</td>\n",
       "      <td>73.23</td>\n",
       "      <td>3.788</td>\n",
       "    </tr>\n",
       "    <tr>\n",
       "      <th>4</th>\n",
       "      <td>BER</td>\n",
       "      <td>9</td>\n",
       "      <td>Race</td>\n",
       "      <td>2024-05-11 13:54:19.502000+00:00</td>\n",
       "      <td>DENNIS, Jake</td>\n",
       "      <td>1</td>\n",
       "      <td>-0.492</td>\n",
       "      <td>0.718</td>\n",
       "      <td>3276.7</td>\n",
       "      <td>64.0</td>\n",
       "      <td>157.28610</td>\n",
       "      <td>52.481961</td>\n",
       "      <td>13.395333</td>\n",
       "      <td>72.46</td>\n",
       "      <td>4.521</td>\n",
       "    </tr>\n",
       "  </tbody>\n",
       "</table>\n",
       "</div>"
      ],
      "text/plain": [
       "  city  sequence sessionname                             time    drivername  \\\n",
       "0  BER         9        Race 2024-05-11 13:03:40.302000+00:00  DENNIS, Jake   \n",
       "1  BER         9        Race 2024-05-11 13:18:32.527000+00:00  DENNIS, Jake   \n",
       "2  BER         9        Race 2024-05-11 13:54:19.352000+00:00  DENNIS, Jake   \n",
       "3  BER         9        Race 2024-05-11 13:54:19.403000+00:00  DENNIS, Jake   \n",
       "4  BER         9        Race 2024-05-11 13:54:19.502000+00:00  DENNIS, Jake   \n",
       "\n",
       "   car_number  tv_acc_x  tv_acc_y  tv_steer  tv_brake  tv_gps_head  \\\n",
       "0           1    -0.021     0.078    3276.7       9.0     47.14096   \n",
       "1           1    -0.334     0.068    3276.7      40.0    268.65608   \n",
       "2           1     0.746     1.608    3276.7      41.0    164.45111   \n",
       "3           1    -0.677     1.596    3276.7      66.0    160.93564   \n",
       "4           1    -0.492     0.718    3276.7      64.0    157.28610   \n",
       "\n",
       "   tv_gps_lat  tv_gps_long  tv_speed  tv_yaw_rate  \n",
       "0   52.479165    13.391210     16.03        0.672  \n",
       "1   52.482312    13.395855     38.87        3.177  \n",
       "2   52.481996    13.395312     74.68        3.177  \n",
       "3   52.481978    13.395322     73.23        3.788  \n",
       "4   52.481961    13.395333     72.46        4.521  "
      ]
     },
     "execution_count": 5,
     "metadata": {},
     "output_type": "execute_result"
    }
   ],
   "source": [
    "sql = \"\"\"\n",
    "SELECT * from fe_hackathon_ldn_24.berlin_race9_telemetry\n",
    ";\n",
    "\"\"\"\n",
    "Berlin_race_9_data = client.query(sql).to_dataframe()\n",
    "\n",
    "Berlin_race_9_data.head()"
   ]
  },
  {
   "cell_type": "code",
   "execution_count": 6,
   "id": "330855cf-839b-464b-89fe-0fc36248d22f",
   "metadata": {
    "tags": []
   },
   "outputs": [
    {
     "name": "stdout",
     "output_type": "stream",
     "text": [
      "Requirement already satisfied: langchain==0.0.332 in /opt/conda/lib/python3.10/site-packages (0.0.332)\n",
      "Requirement already satisfied: PyYAML>=5.3 in /opt/conda/lib/python3.10/site-packages (from langchain==0.0.332) (6.0.1)\n",
      "Requirement already satisfied: SQLAlchemy<3,>=1.4 in /opt/conda/lib/python3.10/site-packages (from langchain==0.0.332) (2.0.31)\n",
      "Requirement already satisfied: aiohttp<4.0.0,>=3.8.3 in /opt/conda/lib/python3.10/site-packages (from langchain==0.0.332) (3.9.5)\n",
      "Requirement already satisfied: anyio<4.0 in /opt/conda/lib/python3.10/site-packages (from langchain==0.0.332) (3.7.1)\n",
      "Requirement already satisfied: async-timeout<5.0.0,>=4.0.0 in /opt/conda/lib/python3.10/site-packages (from langchain==0.0.332) (4.0.3)\n",
      "Requirement already satisfied: dataclasses-json<0.7,>=0.5.7 in /opt/conda/lib/python3.10/site-packages (from langchain==0.0.332) (0.6.7)\n",
      "Requirement already satisfied: jsonpatch<2.0,>=1.33 in /opt/conda/lib/python3.10/site-packages (from langchain==0.0.332) (1.33)\n",
      "Requirement already satisfied: langsmith<0.1.0,>=0.0.52 in /opt/conda/lib/python3.10/site-packages (from langchain==0.0.332) (0.0.92)\n",
      "Requirement already satisfied: numpy<2,>=1 in /opt/conda/lib/python3.10/site-packages (from langchain==0.0.332) (1.26.4)\n",
      "Requirement already satisfied: pydantic<3,>=1 in /opt/conda/lib/python3.10/site-packages (from langchain==0.0.332) (2.8.2)\n",
      "Requirement already satisfied: requests<3,>=2 in /opt/conda/lib/python3.10/site-packages (from langchain==0.0.332) (2.32.3)\n",
      "Requirement already satisfied: tenacity<9.0.0,>=8.1.0 in /opt/conda/lib/python3.10/site-packages (from langchain==0.0.332) (8.5.0)\n",
      "Requirement already satisfied: aiosignal>=1.1.2 in /opt/conda/lib/python3.10/site-packages (from aiohttp<4.0.0,>=3.8.3->langchain==0.0.332) (1.3.1)\n",
      "Requirement already satisfied: attrs>=17.3.0 in /opt/conda/lib/python3.10/site-packages (from aiohttp<4.0.0,>=3.8.3->langchain==0.0.332) (23.2.0)\n",
      "Requirement already satisfied: frozenlist>=1.1.1 in /opt/conda/lib/python3.10/site-packages (from aiohttp<4.0.0,>=3.8.3->langchain==0.0.332) (1.4.1)\n",
      "Requirement already satisfied: multidict<7.0,>=4.5 in /opt/conda/lib/python3.10/site-packages (from aiohttp<4.0.0,>=3.8.3->langchain==0.0.332) (6.0.5)\n",
      "Requirement already satisfied: yarl<2.0,>=1.0 in /opt/conda/lib/python3.10/site-packages (from aiohttp<4.0.0,>=3.8.3->langchain==0.0.332) (1.9.4)\n",
      "Requirement already satisfied: idna>=2.8 in /opt/conda/lib/python3.10/site-packages (from anyio<4.0->langchain==0.0.332) (3.7)\n",
      "Requirement already satisfied: sniffio>=1.1 in /opt/conda/lib/python3.10/site-packages (from anyio<4.0->langchain==0.0.332) (1.3.1)\n",
      "Requirement already satisfied: exceptiongroup in /opt/conda/lib/python3.10/site-packages (from anyio<4.0->langchain==0.0.332) (1.2.0)\n",
      "Requirement already satisfied: marshmallow<4.0.0,>=3.18.0 in /opt/conda/lib/python3.10/site-packages (from dataclasses-json<0.7,>=0.5.7->langchain==0.0.332) (3.21.3)\n",
      "Requirement already satisfied: typing-inspect<1,>=0.4.0 in /opt/conda/lib/python3.10/site-packages (from dataclasses-json<0.7,>=0.5.7->langchain==0.0.332) (0.9.0)\n",
      "Requirement already satisfied: jsonpointer>=1.9 in /opt/conda/lib/python3.10/site-packages (from jsonpatch<2.0,>=1.33->langchain==0.0.332) (3.0.0)\n",
      "Requirement already satisfied: annotated-types>=0.4.0 in /opt/conda/lib/python3.10/site-packages (from pydantic<3,>=1->langchain==0.0.332) (0.7.0)\n",
      "Requirement already satisfied: pydantic-core==2.20.1 in /opt/conda/lib/python3.10/site-packages (from pydantic<3,>=1->langchain==0.0.332) (2.20.1)\n",
      "Requirement already satisfied: typing-extensions>=4.6.1 in /opt/conda/lib/python3.10/site-packages (from pydantic<3,>=1->langchain==0.0.332) (4.12.2)\n",
      "Requirement already satisfied: charset-normalizer<4,>=2 in /opt/conda/lib/python3.10/site-packages (from requests<3,>=2->langchain==0.0.332) (3.3.2)\n",
      "Requirement already satisfied: urllib3<3,>=1.21.1 in /opt/conda/lib/python3.10/site-packages (from requests<3,>=2->langchain==0.0.332) (1.26.19)\n",
      "Requirement already satisfied: certifi>=2017.4.17 in /opt/conda/lib/python3.10/site-packages (from requests<3,>=2->langchain==0.0.332) (2024.7.4)\n",
      "Requirement already satisfied: greenlet!=0.4.17 in /opt/conda/lib/python3.10/site-packages (from SQLAlchemy<3,>=1.4->langchain==0.0.332) (3.0.3)\n",
      "Requirement already satisfied: packaging>=17.0 in /opt/conda/lib/python3.10/site-packages (from marshmallow<4.0.0,>=3.18.0->dataclasses-json<0.7,>=0.5.7->langchain==0.0.332) (24.1)\n",
      "Requirement already satisfied: mypy-extensions>=0.3.0 in /opt/conda/lib/python3.10/site-packages (from typing-inspect<1,>=0.4.0->dataclasses-json<0.7,>=0.5.7->langchain==0.0.332) (1.0.0)\n"
     ]
    }
   ],
   "source": [
    "!pip install langchain==0.0.332"
   ]
  },
  {
   "cell_type": "code",
   "execution_count": 7,
   "id": "62a2e382-2ec4-4a21-8765-a7bfcc6cc3db",
   "metadata": {
    "tags": []
   },
   "outputs": [
    {
     "name": "stdout",
     "output_type": "stream",
     "text": [
      "LangChain version: 0.0.332\n",
      "Vertex AI SDK version: 1.59.0\n"
     ]
    }
   ],
   "source": [
    "#import google.cloud.bigquery as bq\n",
    "import langchain\n",
    "from google.cloud import aiplatform\n",
    "from langchain.llms import VertexAI\n",
    "from langchain.document_loaders import BigQueryLoader\n",
    "from langchain.prompts import PromptTemplate\n",
    "from langchain.schema import format_document\n",
    "\n",
    "# Print LangChain and Vertex AI versions\n",
    "print(f\"LangChain version: {langchain.__version__}\")\n",
    "print(f\"Vertex AI SDK version: {aiplatform.__version__}\")"
   ]
  },
  {
   "cell_type": "code",
   "execution_count": 8,
   "id": "a320a651-47ae-4c22-ac5f-60bd9d438b18",
   "metadata": {
    "tags": []
   },
   "outputs": [],
   "source": [
    "#You will need to initialize vertexai with your project_id and location:\n",
    "\n",
    "PROJECT_ID = \"formula-e-shared24lon-123\"\n",
    "LOCATION = \"us-west1\"\n",
    "\n",
    "import vertexai\n",
    "vertexai.init(project=PROJECT_ID, location=LOCATION)"
   ]
  },
  {
   "cell_type": "code",
   "execution_count": 9,
   "id": "214d5599-7396-4b97-9fdd-0aab3c9bf237",
   "metadata": {
    "tags": []
   },
   "outputs": [],
   "source": [
    "#llm = VertexAI(model_name=\"text-bison\", temperature=0)\n",
    "#llm = VertexAI(model_name=\"code-bison@latest\", max_output_tokens=2048)\n",
    "#llm(\"What is BigQuery?\")"
   ]
  },
  {
   "cell_type": "code",
   "execution_count": 10,
   "id": "2844c8db-8d61-492f-805f-be9d9a6d349f",
   "metadata": {
    "tags": []
   },
   "outputs": [],
   "source": [
    "#llm = VertexAI(model_name=\"gemini-1.5-flash-001\", temperature=0)\n",
    "#llm(\"What is BigQuery?\")"
   ]
  },
  {
   "cell_type": "code",
   "execution_count": 11,
   "id": "1dbdc833-1920-48e9-a6f5-6651f3723306",
   "metadata": {
    "tags": []
   },
   "outputs": [],
   "source": [
    "#from langchain_google_vertexai import ChatVertexAI\n",
    "\n",
    "llm = VertexAI(\n",
    "    model=\"gemini-1.5-flash-001\",\n",
    "    temperature=1,\n",
    "    max_tokens=None,\n",
    "    max_retries=6,\n",
    "    stop=None,\n",
    "    # other params...\n",
    ")"
   ]
  },
  {
   "cell_type": "code",
   "execution_count": 12,
   "id": "3341d1ce-55a3-407d-a77d-d56c9c6d064c",
   "metadata": {
    "tags": []
   },
   "outputs": [
    {
     "data": {
      "text/plain": [
       "' **BigQuery** is a cloud-based, managed data warehouse that allows users to store, query, and analyze large datasets. It is designed for businesses of all sizes and is used by companies such as Google, Spotify, and Twitter.\\n\\n**Key features of BigQuery include:**\\n\\n* **Scalability:** BigQuery can handle datasets of any size, from a few gigabytes to multiple terabytes.\\n* **Speed:** BigQuery is extremely fast, with queries often completing in seconds or even milliseconds.\\n* **Reliability:** BigQuery is a highly reliable service, with a 99.9% uptime guarantee.\\n'"
      ]
     },
     "execution_count": 12,
     "metadata": {},
     "output_type": "execute_result"
    }
   ],
   "source": [
    "llm(\"What is BigQuery?\")"
   ]
  },
  {
   "cell_type": "code",
   "execution_count": 13,
   "id": "1c3dd6dd-34b7-4e8c-8f62-f4dc8104e9a7",
   "metadata": {
    "tags": []
   },
   "outputs": [],
   "source": [
    "# Define our query\n",
    "# specifically targeting meta data of the tables involved\n",
    "# this pulls back all of the metadata for the tables in the database in question\n",
    "# which the 'chain' object can use to help the model generate queries from english language statements\n",
    "query = f\"\"\"\n",
    "SELECT table_name, ddl\n",
    "FROM `formula-e-shared24lon-123.fe_hackathon_ldn_24.INFORMATION_SCHEMA.TABLES`\n",
    "WHERE table_type = 'BASE TABLE'\n",
    "ORDER BY table_name;\n",
    "\"\"\"\n",
    "# Load the data\n",
    "loader = BigQueryLoader(\n",
    "    query, metadata_columns=\"table_name\", page_content_columns=\"ddl\"\n",
    ")\n",
    "# create a 'load' object from the BigQueryLoader function\n",
    "data = loader.load()\n"
   ]
  },
  {
   "cell_type": "code",
   "execution_count": 43,
   "id": "97e1a3be-8419-467a-82b4-e38810449625",
   "metadata": {
    "tags": []
   },
   "outputs": [],
   "source": [
    "# we will get the prompt specific input from a streamlit input box\n",
    "#issue = st.text_input(\"Enter the medical issue description:\")\n",
    "querypromptcontent  = \"for car number 18 what was the fastest speed in race 9?\""
   ]
  },
  {
   "cell_type": "code",
   "execution_count": 44,
   "id": "ffb84b88-54eb-4768-8580-8dff82f00fb4",
   "metadata": {
    "tags": []
   },
   "outputs": [
    {
     "name": "stdout",
     "output_type": "stream",
     "text": [
      "\n",
      "SELECT MAX(tv_speed) AS fastest_speed\n",
      "FROM `formula-e-shared24lon-123.fe_hackathon_ldn_24.berlin_race9_telemetry`\n",
      "WHERE car_number = 18;\n",
      "\n"
     ]
    },
    {
     "data": {
      "text/html": [
       "<div>\n",
       "<style scoped>\n",
       "    .dataframe tbody tr th:only-of-type {\n",
       "        vertical-align: middle;\n",
       "    }\n",
       "\n",
       "    .dataframe tbody tr th {\n",
       "        vertical-align: top;\n",
       "    }\n",
       "\n",
       "    .dataframe thead th {\n",
       "        text-align: right;\n",
       "    }\n",
       "</style>\n",
       "<table border=\"1\" class=\"dataframe\">\n",
       "  <thead>\n",
       "    <tr style=\"text-align: right;\">\n",
       "      <th></th>\n",
       "      <th>fastest_speed</th>\n",
       "    </tr>\n",
       "  </thead>\n",
       "  <tbody>\n",
       "    <tr>\n",
       "      <th>0</th>\n",
       "      <td>246.91</td>\n",
       "    </tr>\n",
       "  </tbody>\n",
       "</table>\n",
       "</div>"
      ],
      "text/plain": [
       "   fastest_speed\n",
       "0         246.91"
      ]
     },
     "execution_count": 44,
     "metadata": {},
     "output_type": "execute_result"
    }
   ],
   "source": [
    "# Use code generation model\n",
    "#llm = VertexAI(model_name=\"code-bison@latest\", max_output_tokens=2048)\n",
    "llm = VertexAI(model_name=\"text-bison\", temperature=0)\n",
    "\n",
    "# Define the chain\n",
    "chain = (\n",
    "    {\n",
    "        \"content\": lambda docs: \"\\n\\n\".join(\n",
    "            format_document(doc, PromptTemplate.from_template(\"{page_content}\"))\n",
    "            for doc in docs\n",
    "        )\n",
    "    }\n",
    "    | PromptTemplate.from_template(\n",
    "        f\"\"\"Suggest a GoogleSQL query to {querypromptcontent}:\\n\\n{{content}}\"\"\"\n",
    "    )\n",
    "    | llm\n",
    ")\n",
    "\n",
    "# Invoke the chain with the documents, and remove code backticks\n",
    "# chain object (combination of user prompt and llm model) uses metadata to dynamically create query\n",
    "generatedquery = chain.invoke(data).strip(\"```\")\n",
    "#generatedquery = chain.invoke(data)\n",
    "generatedquery = generatedquery[7:10000]\n",
    "#generatedquery =  f'\"\"\"{generatedquery}\"\"\"'\n",
    "print(generatedquery)\n",
    "\n",
    "# need to put some error trapping around the query definition because sometimes following on from the\n",
    "# user prompt the ai writes the query out incorrectly - i.e. it gets the field names incorrect at times!\n",
    "df2 = client.query(generatedquery).to_dataframe()\n",
    "df2.head()\n",
    "\n"
   ]
  },
  {
   "cell_type": "code",
   "execution_count": 16,
   "id": "bcb11ef6-0699-42ec-b941-556645f29115",
   "metadata": {
    "tags": []
   },
   "outputs": [],
   "source": [
    "# we will get the prompt specific input from a streamlit input box\n",
    "#issue = st.text_input(\"Enter the medical issue description:\")\n",
    "querypromptcontent  = \"who was the fastest driver in race 9 and also display the speed?\""
   ]
  },
  {
   "cell_type": "code",
   "execution_count": 17,
   "id": "0708b9ff-8f16-428b-a5c6-074ccd33a9f2",
   "metadata": {
    "tags": []
   },
   "outputs": [
    {
     "name": "stdout",
     "output_type": "stream",
     "text": [
      "\n",
      "SELECT drivername, MAX(tv_speed) AS max_speed\n",
      "FROM `formula-e-shared24lon-123.fe_hackathon_ldn_24.berlin_race9_telemetry`\n",
      "GROUP BY drivername\n",
      "ORDER BY max_speed DESC\n",
      "LIMIT 1;\n",
      "\n"
     ]
    },
    {
     "data": {
      "text/html": [
       "<div>\n",
       "<style scoped>\n",
       "    .dataframe tbody tr th:only-of-type {\n",
       "        vertical-align: middle;\n",
       "    }\n",
       "\n",
       "    .dataframe tbody tr th {\n",
       "        vertical-align: top;\n",
       "    }\n",
       "\n",
       "    .dataframe thead th {\n",
       "        text-align: right;\n",
       "    }\n",
       "</style>\n",
       "<table border=\"1\" class=\"dataframe\">\n",
       "  <thead>\n",
       "    <tr style=\"text-align: right;\">\n",
       "      <th></th>\n",
       "      <th>drivername</th>\n",
       "      <th>max_speed</th>\n",
       "    </tr>\n",
       "  </thead>\n",
       "  <tbody>\n",
       "    <tr>\n",
       "      <th>0</th>\n",
       "      <td>NATO, Norman</td>\n",
       "      <td>251.2</td>\n",
       "    </tr>\n",
       "  </tbody>\n",
       "</table>\n",
       "</div>"
      ],
      "text/plain": [
       "     drivername  max_speed\n",
       "0  NATO, Norman      251.2"
      ]
     },
     "execution_count": 17,
     "metadata": {},
     "output_type": "execute_result"
    }
   ],
   "source": [
    "# Use code generation model\n",
    "#llm = VertexAI(model_name=\"code-bison@latest\", max_output_tokens=2048)\n",
    "llm = VertexAI(model_name=\"text-bison\", temperature=0)\n",
    "\n",
    "# Define the chain\n",
    "chain = (\n",
    "    {\n",
    "        \"content\": lambda docs: \"\\n\\n\".join(\n",
    "            format_document(doc, PromptTemplate.from_template(\"{page_content}\"))\n",
    "            for doc in docs\n",
    "        )\n",
    "    }\n",
    "    | PromptTemplate.from_template(\n",
    "        f\"\"\"Suggest a GoogleSQL query to {querypromptcontent}:\\n\\n{{content}}\"\"\"\n",
    "    )\n",
    "    | llm\n",
    ")\n",
    "\n",
    "# Invoke the chain with the documents, and remove code backticks\n",
    "# chain object (combination of user prompt and llm model) uses metadata to dynamically create query\n",
    "generatedquery = chain.invoke(data).strip(\"```\")\n",
    "#generatedquery = chain.invoke(data)\n",
    "generatedquery = generatedquery[7:10000]\n",
    "#generatedquery =  f'\"\"\"{generatedquery}\"\"\"'\n",
    "print(generatedquery)\n",
    "\n",
    "# need to put some error trapping around the query definition because sometimes following on from the\n",
    "# user prompt the ai writes the query out incorrectly - i.e. it gets the field names incorrect at times!\n",
    "df2 = client.query(generatedquery).to_dataframe()\n",
    "df2.head()\n"
   ]
  },
  {
   "cell_type": "code",
   "execution_count": 18,
   "id": "31dd5c60-e166-479f-a5f8-d5f06958a774",
   "metadata": {
    "tags": []
   },
   "outputs": [],
   "source": [
    "# we will get the prompt specific input from a streamlit input box\n",
    "#issue = st.text_input(\"Enter the medical issue description:\")\n",
    "querypromptcontent  = \"highest speed for drivername 'NATO, Norman' in race 10?\""
   ]
  },
  {
   "cell_type": "code",
   "execution_count": 19,
   "id": "46d77ffe-3ae4-4915-8778-65345c796933",
   "metadata": {
    "tags": []
   },
   "outputs": [
    {
     "name": "stdout",
     "output_type": "stream",
     "text": [
      "\n",
      "SELECT\n",
      "  MAX(tv_speed) AS max_speed\n",
      "FROM\n",
      "  `formula-e-shared24lon-123.fe_hackathon_ldn_24.berlin_race10_telemetry`\n",
      "WHERE\n",
      "  drivername = 'NATO, Norman';\n",
      "\n"
     ]
    },
    {
     "data": {
      "text/html": [
       "<div>\n",
       "<style scoped>\n",
       "    .dataframe tbody tr th:only-of-type {\n",
       "        vertical-align: middle;\n",
       "    }\n",
       "\n",
       "    .dataframe tbody tr th {\n",
       "        vertical-align: top;\n",
       "    }\n",
       "\n",
       "    .dataframe thead th {\n",
       "        text-align: right;\n",
       "    }\n",
       "</style>\n",
       "<table border=\"1\" class=\"dataframe\">\n",
       "  <thead>\n",
       "    <tr style=\"text-align: right;\">\n",
       "      <th></th>\n",
       "      <th>max_speed</th>\n",
       "    </tr>\n",
       "  </thead>\n",
       "  <tbody>\n",
       "    <tr>\n",
       "      <th>0</th>\n",
       "      <td>248.0</td>\n",
       "    </tr>\n",
       "  </tbody>\n",
       "</table>\n",
       "</div>"
      ],
      "text/plain": [
       "   max_speed\n",
       "0      248.0"
      ]
     },
     "execution_count": 19,
     "metadata": {},
     "output_type": "execute_result"
    }
   ],
   "source": [
    "# Use code generation model\n",
    "#llm = VertexAI(model_name=\"code-bison@latest\", max_output_tokens=2048)\n",
    "llm = VertexAI(model_name=\"text-bison\", temperature=0)\n",
    "\n",
    "# Define the chain\n",
    "chain = (\n",
    "    {\n",
    "        \"content\": lambda docs: \"\\n\\n\".join(\n",
    "            format_document(doc, PromptTemplate.from_template(\"{page_content}\"))\n",
    "            for doc in docs\n",
    "        )\n",
    "    }\n",
    "    | PromptTemplate.from_template(\n",
    "        f\"\"\"Suggest a GoogleSQL query to {querypromptcontent}:\\n\\n{{content}}\"\"\"\n",
    "    )\n",
    "    | llm\n",
    ")\n",
    "\n",
    "# Invoke the chain with the documents, and remove code backticks\n",
    "# chain object (combination of user prompt and llm model) uses metadata to dynamically create query\n",
    "generatedquery = chain.invoke(data).strip(\"```\")\n",
    "#generatedquery = chain.invoke(data)\n",
    "generatedquery = generatedquery[7:10000]\n",
    "#generatedquery =  f'\"\"\"{generatedquery}\"\"\"'\n",
    "print(generatedquery)\n",
    "\n",
    "# need to put some error trapping around the query definition because sometimes following on from the\n",
    "# user prompt the ai writes the query out incorrectly - i.e. it gets the field names incorrect at times!\n",
    "df2 = client.query(generatedquery).to_dataframe()\n",
    "df2.head()\n"
   ]
  },
  {
   "cell_type": "code",
   "execution_count": 20,
   "id": "3fa44f0e-a5da-4df5-a064-5b199f25433e",
   "metadata": {
    "tags": []
   },
   "outputs": [],
   "source": [
    "# we will get the prompt specific input from a streamlit input box\n",
    "#issue = st.text_input(\"Enter the medical issue description:\")\n",
    "querypromptcontent  = \"who was the fastest driver in race 10 and also display the speed?\""
   ]
  },
  {
   "cell_type": "code",
   "execution_count": 21,
   "id": "09ce184b-ce50-4138-9af5-68d2ac3e590a",
   "metadata": {
    "tags": []
   },
   "outputs": [
    {
     "name": "stdout",
     "output_type": "stream",
     "text": [
      "\n",
      "SELECT drivername, MAX(tv_speed) AS max_speed\n",
      "FROM `formula-e-shared24lon-123.fe_hackathon_ldn_24.berlin_race10_telemetry`\n",
      "GROUP BY drivername\n",
      "ORDER BY max_speed DESC\n",
      "LIMIT 1;\n",
      "\n"
     ]
    },
    {
     "data": {
      "text/html": [
       "<div>\n",
       "<style scoped>\n",
       "    .dataframe tbody tr th:only-of-type {\n",
       "        vertical-align: middle;\n",
       "    }\n",
       "\n",
       "    .dataframe tbody tr th {\n",
       "        vertical-align: top;\n",
       "    }\n",
       "\n",
       "    .dataframe thead th {\n",
       "        text-align: right;\n",
       "    }\n",
       "</style>\n",
       "<table border=\"1\" class=\"dataframe\">\n",
       "  <thead>\n",
       "    <tr style=\"text-align: right;\">\n",
       "      <th></th>\n",
       "      <th>drivername</th>\n",
       "      <th>max_speed</th>\n",
       "    </tr>\n",
       "  </thead>\n",
       "  <tbody>\n",
       "    <tr>\n",
       "      <th>0</th>\n",
       "      <td>VERGNE, Jean-Éric</td>\n",
       "      <td>253.72</td>\n",
       "    </tr>\n",
       "  </tbody>\n",
       "</table>\n",
       "</div>"
      ],
      "text/plain": [
       "          drivername  max_speed\n",
       "0  VERGNE, Jean-Éric     253.72"
      ]
     },
     "execution_count": 21,
     "metadata": {},
     "output_type": "execute_result"
    }
   ],
   "source": [
    "# Use code generation model\n",
    "#llm = VertexAI(model_name=\"code-bison@latest\", max_output_tokens=2048)\n",
    "llm = VertexAI(model_name=\"text-bison\", temperature=0)\n",
    "\n",
    "# Define the chain\n",
    "chain = (\n",
    "    {\n",
    "        \"content\": lambda docs: \"\\n\\n\".join(\n",
    "            format_document(doc, PromptTemplate.from_template(\"{page_content}\"))\n",
    "            for doc in docs\n",
    "        )\n",
    "    }\n",
    "    | PromptTemplate.from_template(\n",
    "        f\"\"\"Suggest a GoogleSQL query to {querypromptcontent}:\\n\\n{{content}}\"\"\"\n",
    "    )\n",
    "    | llm\n",
    ")\n",
    "\n",
    "# Invoke the chain with the documents, and remove code backticks\n",
    "# chain object (combination of user prompt and llm model) uses metadata to dynamically create query\n",
    "generatedquery = chain.invoke(data).strip(\"```\")\n",
    "#generatedquery = chain.invoke(data)\n",
    "generatedquery = generatedquery[7:10000]\n",
    "#generatedquery =  f'\"\"\"{generatedquery}\"\"\"'\n",
    "print(generatedquery)\n",
    "\n",
    "# need to put some error trapping around the query definition because sometimes following on from the\n",
    "# user prompt the ai writes the query out incorrectly - i.e. it gets the field names incorrect at times!\n",
    "df2 = client.query(generatedquery).to_dataframe()\n",
    "df2.head()\n"
   ]
  },
  {
   "cell_type": "code",
   "execution_count": 49,
   "id": "3e114a65-5e66-424c-b9fc-846ba3ea630c",
   "metadata": {
    "tags": []
   },
   "outputs": [],
   "source": [
    "# we will get the prompt specific input from a streamlit input box\n",
    "#issue = st.text_input(\"Enter the medical issue description:\")\n",
    "querypromptcontent  = \" what is average speed of drivername 'ARON, Paul'in race 9?\""
   ]
  },
  {
   "cell_type": "code",
   "execution_count": 50,
   "id": "709e65aa-d781-4011-8e64-3dc45d0588c2",
   "metadata": {
    "tags": []
   },
   "outputs": [
    {
     "name": "stdout",
     "output_type": "stream",
     "text": [
      "\n",
      "SELECT AVG(tv_speed) AS average_speed\n",
      "FROM `formula-e-shared24lon-123.fe_hackathon_ldn_24.berlin_race9_telemetry`\n",
      "WHERE drivername = 'ARON, Paul';\n",
      "\n"
     ]
    },
    {
     "data": {
      "text/html": [
       "<div>\n",
       "<style scoped>\n",
       "    .dataframe tbody tr th:only-of-type {\n",
       "        vertical-align: middle;\n",
       "    }\n",
       "\n",
       "    .dataframe tbody tr th {\n",
       "        vertical-align: top;\n",
       "    }\n",
       "\n",
       "    .dataframe thead th {\n",
       "        text-align: right;\n",
       "    }\n",
       "</style>\n",
       "<table border=\"1\" class=\"dataframe\">\n",
       "  <thead>\n",
       "    <tr style=\"text-align: right;\">\n",
       "      <th></th>\n",
       "      <th>average_speed</th>\n",
       "    </tr>\n",
       "  </thead>\n",
       "  <tbody>\n",
       "    <tr>\n",
       "      <th>0</th>\n",
       "      <td>89.069164</td>\n",
       "    </tr>\n",
       "  </tbody>\n",
       "</table>\n",
       "</div>"
      ],
      "text/plain": [
       "   average_speed\n",
       "0      89.069164"
      ]
     },
     "execution_count": 50,
     "metadata": {},
     "output_type": "execute_result"
    }
   ],
   "source": [
    "# Use code generation model\n",
    "#llm = VertexAI(model_name=\"code-bison@latest\", max_output_tokens=2048)\n",
    "llm = VertexAI(model_name=\"text-bison\", temperature=0)\n",
    "\n",
    "# Define the chain\n",
    "chain = (\n",
    "    {\n",
    "        \"content\": lambda docs: \"\\n\\n\".join(\n",
    "            format_document(doc, PromptTemplate.from_template(\"{page_content}\"))\n",
    "            for doc in docs\n",
    "        )\n",
    "    }\n",
    "    | PromptTemplate.from_template(\n",
    "        f\"\"\"Suggest a GoogleSQL query to {querypromptcontent}:\\n\\n{{content}}\"\"\"\n",
    "    )\n",
    "    | llm\n",
    ")\n",
    "\n",
    "# Invoke the chain with the documents, and remove code backticks\n",
    "# chain object (combination of user prompt and llm model) uses metadata to dynamically create query\n",
    "generatedquery = chain.invoke(data).strip(\"```\")\n",
    "#generatedquery = chain.invoke(data)\n",
    "generatedquery = generatedquery[7:10000]\n",
    "#generatedquery =  f'\"\"\"{generatedquery}\"\"\"'\n",
    "print(generatedquery)\n",
    "\n",
    "# need to put some error trapping around the query definition because sometimes following on from the\n",
    "# user prompt the ai writes the query out incorrectly - i.e. it gets the field names incorrect at times!\n",
    "df2 = client.query(generatedquery).to_dataframe()\n",
    "df2.head()\n"
   ]
  },
  {
   "cell_type": "code",
   "execution_count": 54,
   "id": "8d537198-3d9a-4bfa-b9d7-e0fb9a15a85b",
   "metadata": {},
   "outputs": [],
   "source": [
    "# we will get the prompt specific input from a streamlit input box\n",
    "#issue = st.text_input(\"Enter the medical issue description:\")\n",
    "querypromptcontent  = \" average speed of all drivers in race 9 aggregate by drivername?\""
   ]
  },
  {
   "cell_type": "code",
   "execution_count": 55,
   "id": "55df9d96-8038-4e35-978b-67195d35e2e0",
   "metadata": {
    "tags": []
   },
   "outputs": [
    {
     "name": "stdout",
     "output_type": "stream",
     "text": [
      "\n",
      "SELECT drivername, AVG(tv_speed) AS average_speed\n",
      "FROM `formula-e-shared24lon-123.fe_hackathon_ldn_24.berlin_race9_telemetry`\n",
      "GROUP BY drivername\n",
      "ORDER BY average_speed DESC;\n",
      "\n"
     ]
    },
    {
     "data": {
      "text/html": [
       "<div>\n",
       "<style scoped>\n",
       "    .dataframe tbody tr th:only-of-type {\n",
       "        vertical-align: middle;\n",
       "    }\n",
       "\n",
       "    .dataframe tbody tr th {\n",
       "        vertical-align: top;\n",
       "    }\n",
       "\n",
       "    .dataframe thead th {\n",
       "        text-align: right;\n",
       "    }\n",
       "</style>\n",
       "<table border=\"1\" class=\"dataframe\">\n",
       "  <thead>\n",
       "    <tr style=\"text-align: right;\">\n",
       "      <th></th>\n",
       "      <th>drivername</th>\n",
       "      <th>average_speed</th>\n",
       "    </tr>\n",
       "  </thead>\n",
       "  <tbody>\n",
       "    <tr>\n",
       "      <th>0</th>\n",
       "      <td>ROWLAND, Oliver</td>\n",
       "      <td>89.529826</td>\n",
       "    </tr>\n",
       "    <tr>\n",
       "      <th>1</th>\n",
       "      <td>CASSIDY, Nick</td>\n",
       "      <td>89.276763</td>\n",
       "    </tr>\n",
       "    <tr>\n",
       "      <th>2</th>\n",
       "      <td>ARON, Paul</td>\n",
       "      <td>89.069164</td>\n",
       "    </tr>\n",
       "    <tr>\n",
       "      <th>3</th>\n",
       "      <td>BARNARD, Taylor</td>\n",
       "      <td>88.934448</td>\n",
       "    </tr>\n",
       "    <tr>\n",
       "      <th>4</th>\n",
       "      <td>MORTARA, Edoardo</td>\n",
       "      <td>88.791653</td>\n",
       "    </tr>\n",
       "  </tbody>\n",
       "</table>\n",
       "</div>"
      ],
      "text/plain": [
       "         drivername  average_speed\n",
       "0   ROWLAND, Oliver      89.529826\n",
       "1     CASSIDY, Nick      89.276763\n",
       "2        ARON, Paul      89.069164\n",
       "3   BARNARD, Taylor      88.934448\n",
       "4  MORTARA, Edoardo      88.791653"
      ]
     },
     "execution_count": 55,
     "metadata": {},
     "output_type": "execute_result"
    }
   ],
   "source": [
    "# Use code generation model\n",
    "#llm = VertexAI(model_name=\"code-bison@latest\", max_output_tokens=2048)\n",
    "llm = VertexAI(model_name=\"text-bison\", temperature=0)\n",
    "\n",
    "# Define the chain\n",
    "chain = (\n",
    "    {\n",
    "        \"content\": lambda docs: \"\\n\\n\".join(\n",
    "            format_document(doc, PromptTemplate.from_template(\"{page_content}\"))\n",
    "            for doc in docs\n",
    "        )\n",
    "    }\n",
    "    | PromptTemplate.from_template(\n",
    "        f\"\"\"Suggest a GoogleSQL query to {querypromptcontent}:\\n\\n{{content}}\"\"\"\n",
    "    )\n",
    "    | llm\n",
    ")\n",
    "\n",
    "# Invoke the chain with the documents, and remove code backticks\n",
    "# chain object (combination of user prompt and llm model) uses metadata to dynamically create query\n",
    "generatedquery = chain.invoke(data).strip(\"```\")\n",
    "#generatedquery = chain.invoke(data)\n",
    "generatedquery = generatedquery[7:10000]\n",
    "#generatedquery =  f'\"\"\"{generatedquery}\"\"\"'\n",
    "print(generatedquery)\n",
    "\n",
    "# need to put some error trapping around the query definition because sometimes following on from the\n",
    "# user prompt the ai writes the query out incorrectly - i.e. it gets the field names incorrect at times!\n",
    "df2 = client.query(generatedquery).to_dataframe()\n",
    "df2.head()\n"
   ]
  },
  {
   "cell_type": "code",
   "execution_count": 56,
   "id": "4a8fcabb-99ce-4416-b0f3-98b98f06f96d",
   "metadata": {
    "tags": []
   },
   "outputs": [],
   "source": [
    "# we will get the prompt specific input from a streamlit input box\n",
    "#issue = st.text_input(\"Enter the medical issue description:\")\n",
    "querypromptcontent  = \" average speed of all drivers in race 9 aggregate by drivername visualise it into a bar chart?\""
   ]
  },
  {
   "cell_type": "code",
   "execution_count": 57,
   "id": "81a582c0-b225-4abb-91a7-339dc6f14ca3",
   "metadata": {
    "tags": []
   },
   "outputs": [
    {
     "name": "stdout",
     "output_type": "stream",
     "text": [
      "\n",
      "SELECT drivername, AVG(tv_speed) AS average_speed\n",
      "FROM `formula-e-shared24lon-123.fe_hackathon_ldn_24.berlin_race9_telemetry`\n",
      "GROUP BY drivername\n",
      "ORDER BY average_speed DESC;\n",
      "\n"
     ]
    },
    {
     "data": {
      "text/html": [
       "<div>\n",
       "<style scoped>\n",
       "    .dataframe tbody tr th:only-of-type {\n",
       "        vertical-align: middle;\n",
       "    }\n",
       "\n",
       "    .dataframe tbody tr th {\n",
       "        vertical-align: top;\n",
       "    }\n",
       "\n",
       "    .dataframe thead th {\n",
       "        text-align: right;\n",
       "    }\n",
       "</style>\n",
       "<table border=\"1\" class=\"dataframe\">\n",
       "  <thead>\n",
       "    <tr style=\"text-align: right;\">\n",
       "      <th></th>\n",
       "      <th>drivername</th>\n",
       "      <th>average_speed</th>\n",
       "    </tr>\n",
       "  </thead>\n",
       "  <tbody>\n",
       "    <tr>\n",
       "      <th>0</th>\n",
       "      <td>ROWLAND, Oliver</td>\n",
       "      <td>89.529826</td>\n",
       "    </tr>\n",
       "    <tr>\n",
       "      <th>1</th>\n",
       "      <td>CASSIDY, Nick</td>\n",
       "      <td>89.276763</td>\n",
       "    </tr>\n",
       "    <tr>\n",
       "      <th>2</th>\n",
       "      <td>ARON, Paul</td>\n",
       "      <td>89.069164</td>\n",
       "    </tr>\n",
       "    <tr>\n",
       "      <th>3</th>\n",
       "      <td>BARNARD, Taylor</td>\n",
       "      <td>88.934448</td>\n",
       "    </tr>\n",
       "    <tr>\n",
       "      <th>4</th>\n",
       "      <td>MORTARA, Edoardo</td>\n",
       "      <td>88.791653</td>\n",
       "    </tr>\n",
       "  </tbody>\n",
       "</table>\n",
       "</div>"
      ],
      "text/plain": [
       "         drivername  average_speed\n",
       "0   ROWLAND, Oliver      89.529826\n",
       "1     CASSIDY, Nick      89.276763\n",
       "2        ARON, Paul      89.069164\n",
       "3   BARNARD, Taylor      88.934448\n",
       "4  MORTARA, Edoardo      88.791653"
      ]
     },
     "execution_count": 57,
     "metadata": {},
     "output_type": "execute_result"
    }
   ],
   "source": [
    "# Use code generation model\n",
    "#llm = VertexAI(model_name=\"code-bison@latest\", max_output_tokens=2048)\n",
    "llm = VertexAI(model_name=\"text-bison\", temperature=0)\n",
    "\n",
    "# Define the chain\n",
    "chain = (\n",
    "    {\n",
    "        \"content\": lambda docs: \"\\n\\n\".join(\n",
    "            format_document(doc, PromptTemplate.from_template(\"{page_content}\"))\n",
    "            for doc in docs\n",
    "        )\n",
    "    }\n",
    "    | PromptTemplate.from_template(\n",
    "        f\"\"\"Suggest a GoogleSQL query to {querypromptcontent}:\\n\\n{{content}}\"\"\"\n",
    "    )\n",
    "    | llm\n",
    ")\n",
    "\n",
    "# Invoke the chain with the documents, and remove code backticks\n",
    "# chain object (combination of user prompt and llm model) uses metadata to dynamically create query\n",
    "generatedquery = chain.invoke(data).strip(\"```\")\n",
    "#generatedquery = chain.invoke(data)\n",
    "generatedquery = generatedquery[7:10000]\n",
    "#generatedquery =  f'\"\"\"{generatedquery}\"\"\"'\n",
    "print(generatedquery)\n",
    "\n",
    "# need to put some error trapping around the query definition because sometimes following on from the\n",
    "# user prompt the ai writes the query out incorrectly - i.e. it gets the field names incorrect at times!\n",
    "df2 = client.query(generatedquery).to_dataframe()\n",
    "df2.head()\n"
   ]
  },
  {
   "cell_type": "code",
   "execution_count": 59,
   "id": "9da61df2-680c-407e-8b9a-577ed7a41978",
   "metadata": {
    "tags": []
   },
   "outputs": [
    {
     "name": "stdout",
     "output_type": "stream",
     "text": [
      "Requirement already satisfied: seaborn in /opt/conda/lib/python3.10/site-packages (0.13.2)\n",
      "Requirement already satisfied: numpy!=1.24.0,>=1.20 in /opt/conda/lib/python3.10/site-packages (from seaborn) (1.26.4)\n",
      "Requirement already satisfied: pandas>=1.2 in /opt/conda/lib/python3.10/site-packages (from seaborn) (2.2.2)\n",
      "Requirement already satisfied: matplotlib!=3.6.1,>=3.4 in /opt/conda/lib/python3.10/site-packages (from seaborn) (3.8.4)\n",
      "Requirement already satisfied: contourpy>=1.0.1 in /opt/conda/lib/python3.10/site-packages (from matplotlib!=3.6.1,>=3.4->seaborn) (1.2.1)\n",
      "Requirement already satisfied: cycler>=0.10 in /opt/conda/lib/python3.10/site-packages (from matplotlib!=3.6.1,>=3.4->seaborn) (0.12.1)\n",
      "Requirement already satisfied: fonttools>=4.22.0 in /opt/conda/lib/python3.10/site-packages (from matplotlib!=3.6.1,>=3.4->seaborn) (4.53.1)\n",
      "Requirement already satisfied: kiwisolver>=1.3.1 in /opt/conda/lib/python3.10/site-packages (from matplotlib!=3.6.1,>=3.4->seaborn) (1.4.5)\n",
      "Requirement already satisfied: packaging>=20.0 in /opt/conda/lib/python3.10/site-packages (from matplotlib!=3.6.1,>=3.4->seaborn) (24.1)\n",
      "Requirement already satisfied: pillow>=8 in /opt/conda/lib/python3.10/site-packages (from matplotlib!=3.6.1,>=3.4->seaborn) (10.4.0)\n",
      "Requirement already satisfied: pyparsing>=2.3.1 in /opt/conda/lib/python3.10/site-packages (from matplotlib!=3.6.1,>=3.4->seaborn) (3.1.2)\n",
      "Requirement already satisfied: python-dateutil>=2.7 in /opt/conda/lib/python3.10/site-packages (from matplotlib!=3.6.1,>=3.4->seaborn) (2.9.0)\n",
      "Requirement already satisfied: pytz>=2020.1 in /opt/conda/lib/python3.10/site-packages (from pandas>=1.2->seaborn) (2024.1)\n",
      "Requirement already satisfied: tzdata>=2022.7 in /opt/conda/lib/python3.10/site-packages (from pandas>=1.2->seaborn) (2024.1)\n",
      "Requirement already satisfied: six>=1.5 in /opt/conda/lib/python3.10/site-packages (from python-dateutil>=2.7->matplotlib!=3.6.1,>=3.4->seaborn) (1.16.0)\n"
     ]
    }
   ],
   "source": [
    "!pip install seaborn"
   ]
  },
  {
   "cell_type": "code",
   "execution_count": 64,
   "id": "fa88642c-e383-45ef-ab5c-47cf65d0014d",
   "metadata": {
    "tags": []
   },
   "outputs": [
    {
     "data": {
      "text/html": [
       "<div>\n",
       "<style scoped>\n",
       "    .dataframe tbody tr th:only-of-type {\n",
       "        vertical-align: middle;\n",
       "    }\n",
       "\n",
       "    .dataframe tbody tr th {\n",
       "        vertical-align: top;\n",
       "    }\n",
       "\n",
       "    .dataframe thead th {\n",
       "        text-align: right;\n",
       "    }\n",
       "</style>\n",
       "<table border=\"1\" class=\"dataframe\">\n",
       "  <thead>\n",
       "    <tr style=\"text-align: right;\">\n",
       "      <th></th>\n",
       "      <th>drivername</th>\n",
       "      <th>average_speed</th>\n",
       "    </tr>\n",
       "  </thead>\n",
       "  <tbody>\n",
       "    <tr>\n",
       "      <th>0</th>\n",
       "      <td>ROWLAND, Oliver</td>\n",
       "      <td>89.529826</td>\n",
       "    </tr>\n",
       "    <tr>\n",
       "      <th>1</th>\n",
       "      <td>CASSIDY, Nick</td>\n",
       "      <td>89.276763</td>\n",
       "    </tr>\n",
       "    <tr>\n",
       "      <th>2</th>\n",
       "      <td>ARON, Paul</td>\n",
       "      <td>89.069164</td>\n",
       "    </tr>\n",
       "    <tr>\n",
       "      <th>3</th>\n",
       "      <td>BARNARD, Taylor</td>\n",
       "      <td>88.934448</td>\n",
       "    </tr>\n",
       "    <tr>\n",
       "      <th>4</th>\n",
       "      <td>MORTARA, Edoardo</td>\n",
       "      <td>88.791653</td>\n",
       "    </tr>\n",
       "    <tr>\n",
       "      <th>5</th>\n",
       "      <td>EVANS, Mitch</td>\n",
       "      <td>88.717653</td>\n",
       "    </tr>\n",
       "    <tr>\n",
       "      <th>6</th>\n",
       "      <td>DA COSTA, António Félix</td>\n",
       "      <td>88.552172</td>\n",
       "    </tr>\n",
       "    <tr>\n",
       "      <th>7</th>\n",
       "      <td>KING, Jordan</td>\n",
       "      <td>88.374874</td>\n",
       "    </tr>\n",
       "    <tr>\n",
       "      <th>8</th>\n",
       "      <td>FENESTRAZ, Sacha</td>\n",
       "      <td>88.302891</td>\n",
       "    </tr>\n",
       "    <tr>\n",
       "      <th>9</th>\n",
       "      <td>TICKTUM, Dan</td>\n",
       "      <td>88.176388</td>\n",
       "    </tr>\n",
       "    <tr>\n",
       "      <th>10</th>\n",
       "      <td>VAN DER LINDE, Kelvin</td>\n",
       "      <td>88.041650</td>\n",
       "    </tr>\n",
       "    <tr>\n",
       "      <th>11</th>\n",
       "      <td>WEHRLEIN, Pascal</td>\n",
       "      <td>88.005558</td>\n",
       "    </tr>\n",
       "    <tr>\n",
       "      <th>12</th>\n",
       "      <td>VERGNE, Jean-Éric</td>\n",
       "      <td>87.417445</td>\n",
       "    </tr>\n",
       "    <tr>\n",
       "      <th>13</th>\n",
       "      <td>HUGHES, Jake</td>\n",
       "      <td>87.380626</td>\n",
       "    </tr>\n",
       "    <tr>\n",
       "      <th>14</th>\n",
       "      <td>SETTE CÂMARA, Sérgio</td>\n",
       "      <td>86.474700</td>\n",
       "    </tr>\n",
       "    <tr>\n",
       "      <th>15</th>\n",
       "      <td>DARUVALA, Jehan</td>\n",
       "      <td>86.404427</td>\n",
       "    </tr>\n",
       "    <tr>\n",
       "      <th>16</th>\n",
       "      <td>NATO, Norman</td>\n",
       "      <td>86.321067</td>\n",
       "    </tr>\n",
       "    <tr>\n",
       "      <th>17</th>\n",
       "      <td>VANDOORNE, Stoffel</td>\n",
       "      <td>86.035865</td>\n",
       "    </tr>\n",
       "    <tr>\n",
       "      <th>18</th>\n",
       "      <td>DENNIS, Jake</td>\n",
       "      <td>74.398735</td>\n",
       "    </tr>\n",
       "    <tr>\n",
       "      <th>19</th>\n",
       "      <td>GÜNTHER, Maximilian</td>\n",
       "      <td>59.744609</td>\n",
       "    </tr>\n",
       "    <tr>\n",
       "      <th>20</th>\n",
       "      <td>DI GRASSI, Lucas</td>\n",
       "      <td>40.939854</td>\n",
       "    </tr>\n",
       "    <tr>\n",
       "      <th>21</th>\n",
       "      <td>ERIKSSON, Joel</td>\n",
       "      <td>35.060437</td>\n",
       "    </tr>\n",
       "  </tbody>\n",
       "</table>\n",
       "</div>"
      ],
      "text/plain": [
       "                 drivername  average_speed\n",
       "0           ROWLAND, Oliver      89.529826\n",
       "1             CASSIDY, Nick      89.276763\n",
       "2                ARON, Paul      89.069164\n",
       "3           BARNARD, Taylor      88.934448\n",
       "4          MORTARA, Edoardo      88.791653\n",
       "5              EVANS, Mitch      88.717653\n",
       "6   DA COSTA, António Félix      88.552172\n",
       "7              KING, Jordan      88.374874\n",
       "8          FENESTRAZ, Sacha      88.302891\n",
       "9              TICKTUM, Dan      88.176388\n",
       "10    VAN DER LINDE, Kelvin      88.041650\n",
       "11         WEHRLEIN, Pascal      88.005558\n",
       "12        VERGNE, Jean-Éric      87.417445\n",
       "13             HUGHES, Jake      87.380626\n",
       "14     SETTE CÂMARA, Sérgio      86.474700\n",
       "15          DARUVALA, Jehan      86.404427\n",
       "16             NATO, Norman      86.321067\n",
       "17       VANDOORNE, Stoffel      86.035865\n",
       "18             DENNIS, Jake      74.398735\n",
       "19      GÜNTHER, Maximilian      59.744609\n",
       "20         DI GRASSI, Lucas      40.939854\n",
       "21           ERIKSSON, Joel      35.060437"
      ]
     },
     "execution_count": 64,
     "metadata": {},
     "output_type": "execute_result"
    }
   ],
   "source": [
    "df2"
   ]
  },
  {
   "cell_type": "code",
   "execution_count": 65,
   "id": "3d0280b9-36e1-4b42-b62d-94ea9af40a16",
   "metadata": {
    "tags": []
   },
   "outputs": [],
   "source": [
    "df3 = df2.head(5)"
   ]
  },
  {
   "cell_type": "code",
   "execution_count": 66,
   "id": "61ffdc1d-f33b-4d00-9911-f522634ba419",
   "metadata": {
    "tags": []
   },
   "outputs": [
    {
     "data": {
      "text/html": [
       "<div>\n",
       "<style scoped>\n",
       "    .dataframe tbody tr th:only-of-type {\n",
       "        vertical-align: middle;\n",
       "    }\n",
       "\n",
       "    .dataframe tbody tr th {\n",
       "        vertical-align: top;\n",
       "    }\n",
       "\n",
       "    .dataframe thead th {\n",
       "        text-align: right;\n",
       "    }\n",
       "</style>\n",
       "<table border=\"1\" class=\"dataframe\">\n",
       "  <thead>\n",
       "    <tr style=\"text-align: right;\">\n",
       "      <th></th>\n",
       "      <th>drivername</th>\n",
       "      <th>average_speed</th>\n",
       "    </tr>\n",
       "  </thead>\n",
       "  <tbody>\n",
       "    <tr>\n",
       "      <th>0</th>\n",
       "      <td>ROWLAND, Oliver</td>\n",
       "      <td>89.529826</td>\n",
       "    </tr>\n",
       "    <tr>\n",
       "      <th>1</th>\n",
       "      <td>CASSIDY, Nick</td>\n",
       "      <td>89.276763</td>\n",
       "    </tr>\n",
       "    <tr>\n",
       "      <th>2</th>\n",
       "      <td>ARON, Paul</td>\n",
       "      <td>89.069164</td>\n",
       "    </tr>\n",
       "    <tr>\n",
       "      <th>3</th>\n",
       "      <td>BARNARD, Taylor</td>\n",
       "      <td>88.934448</td>\n",
       "    </tr>\n",
       "    <tr>\n",
       "      <th>4</th>\n",
       "      <td>MORTARA, Edoardo</td>\n",
       "      <td>88.791653</td>\n",
       "    </tr>\n",
       "  </tbody>\n",
       "</table>\n",
       "</div>"
      ],
      "text/plain": [
       "         drivername  average_speed\n",
       "0   ROWLAND, Oliver      89.529826\n",
       "1     CASSIDY, Nick      89.276763\n",
       "2        ARON, Paul      89.069164\n",
       "3   BARNARD, Taylor      88.934448\n",
       "4  MORTARA, Edoardo      88.791653"
      ]
     },
     "execution_count": 66,
     "metadata": {},
     "output_type": "execute_result"
    }
   ],
   "source": [
    "df3"
   ]
  },
  {
   "cell_type": "code",
   "execution_count": 78,
   "id": "a27ec37a-49b7-4fb8-b6cc-aad2cb10bd29",
   "metadata": {
    "tags": []
   },
   "outputs": [
    {
     "name": "stderr",
     "output_type": "stream",
     "text": [
      "/var/tmp/ipykernel_29392/1355462420.py:2: UserWarning: Ignoring `palette` because no `hue` variable has been assigned.\n",
      "  sns.lineplot(y= 'drivername',\n"
     ]
    },
    {
     "data": {
      "text/plain": [
       "[Text(0.5, 1.0, 'Average speed per Driver')]"
      ]
     },
     "execution_count": 78,
     "metadata": {},
     "output_type": "execute_result"
    },
    {
     "data": {
      "image/png": "[encoded data removed]",
      "text/plain": [
       "<Figure size 640x480 with 1 Axes>"
      ]
     },
     "metadata": {},
     "output_type": "display_data"
    }
   ],
   "source": [
    "import seaborn as sns\n",
    "sns.lineplot(y= 'drivername',\n",
    "           x= 'average_speed',\n",
    "           data= df2,\n",
    "             palette = '#FF5733'\n",
    "          ).set(title ='Average speed per Driver')"
   ]
  },
  {
   "cell_type": "code",
   "execution_count": null,
   "id": "2d3d8c50-e4e0-40db-902d-598b6a69aebe",
   "metadata": {},
   "outputs": [],
   "source": []
  }
 ],
 "metadata": {
  "environment": {
   "kernel": "conda-base-py",
   "name": "workbench-notebooks.m123",
   "type": "gcloud",
   "uri": "us-docker.pkg.dev/deeplearning-platform-release/gcr.io/workbench-notebooks:m123"
  },
  "kernelspec": {
   "display_name": "Python 3 (ipykernel) (Local)",
   "language": "python",
   "name": "conda-base-py"
  },
  "language_info": {
   "codemirror_mode": {
    "name": "ipython",
    "version": 3
   },
   "file_extension": ".py",
   "mimetype": "text/x-python",
   "name": "python",
   "nbconvert_exporter": "python",
   "pygments_lexer": "ipython3",
   "version": "3.10.14"
  }
 },
 "nbformat": 4,
 "nbformat_minor": 5
}
