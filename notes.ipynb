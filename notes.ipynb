{
 "cells": [
  {
   "cell_type": "code",
   "execution_count": null,
   "id": "1dd635d4-a967-4a15-8204-aff9bf4f5b00",
   "metadata": {},
   "outputs": [],
   "source": [
    "create a docker repo with repo name=clinical-coding\n",
    "\n",
    "\n",
    "using cloudshell, within the folder with the files you want to push run:\n",
    "export GCP_PROJECT='nhs-ai-health24lon-6301'\n",
    "export GCP_REGION='us-central1'      \n",
    "\n",
    "gcloud builds submit --tag \"$GCP_REGION-docker.pkg.dev/$GCP_PROJECT/clinical-coding/clinical-coding-app\"\n",
    "\n",
    "\n",
    "gcloud run deploy \"clinical-coding-app\" \\\n",
    "  --port=8080 \\\n",
    "  --image=\"$GCP_REGION-docker.pkg.dev/$GCP_PROJECT/clinical-coding/clinical-coding-app\" \\\n",
    "  --allow-unauthenticated \\\n",
    "  --region=$GCP_REGION \\\n",
    "  --platform=managed  \\\n",
    "  --project=$GCP_PROJECT \\\n",
    "  --set-env-vars=GCP_PROJECT=$GCP_PROJECT,GCP_REGION=$GCP_REGION\n",
    "\n",
    "copy local files (all files) to bucket command:\n",
    "gsutil cp *  gs://imps_bucket/\n",
    "\n",
    "https://clinical-coding-app-2nmoiwdbpq-uc.a.run.app/"
   ]
  }
 ],
 "metadata": {
  "environment": {
   "kernel": "python3",
   "name": "tf2-cpu.2-11.m121",
   "type": "gcloud",
   "uri": "us-docker.pkg.dev/deeplearning-platform-release/gcr.io/tf2-cpu.2-11:m121"
  },
  "kernelspec": {
   "display_name": "Python 3 (Local)",
   "language": "python",
   "name": "python3"
  },
  "language_info": {
   "codemirror_mode": {
    "name": "ipython",
    "version": 3
   },
   "file_extension": ".py",
   "mimetype": "text/x-python",
   "name": "python",
   "nbconvert_exporter": "python",
   "pygments_lexer": "ipython3",
   "version": "3.10.14"
  }
 },
 "nbformat": 4,
 "nbformat_minor": 5
}
