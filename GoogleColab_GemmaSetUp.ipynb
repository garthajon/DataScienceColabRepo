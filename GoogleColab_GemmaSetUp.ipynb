{
  "nbformat": 4,
  "nbformat_minor": 0,
  "metadata": {
    "colab": {
      "provenance": [],
      "gpuType": "T4",
      "authorship_tag": "ABX9TyOfCdmi4UUdYM7AWEaDblRx",
      "include_colab_link": true
    },
    "kernelspec": {
      "name": "python3",
      "display_name": "Python 3"
    },
    "language_info": {
      "name": "python"
    },
    "accelerator": "GPU"
  },
  "cells": [
    {
      "cell_type": "markdown",
      "metadata": {
        "id": "view-in-github",
        "colab_type": "text"
      },
      "source": [
        "<a href=\"https://colab.research.google.com/github/garthajon/DataScienceColabRepo/blob/main/GoogleColab_GemmaSetUp.ipynb\" target=\"_parent\"><img src=\"https://colab.research.google.com/assets/colab-badge.svg\" alt=\"Open In Colab\"/></a>"
      ]
    },
    {
      "cell_type": "code",
      "execution_count": null,
      "metadata": {
        "id": "MYCMszehqxVc"
      },
      "outputs": [],
      "source": []
    },
    {
      "cell_type": "markdown",
      "source": [
        "This notebook traverses the process of setting up in google colab a facility to link to Google's open source LLM (Large Language Model) GEMMA: the free/developer equivalent of GOOGLE's LLM GEMINI, the process is described and involves the user having to set up a Kaggle account, the instructions are taken from this link:\n",
        "\n",
        "https://ai.google.dev/gemma/docs/setup"
      ],
      "metadata": {
        "id": "cukClLU_sQXG"
      }
    },
    {
      "cell_type": "markdown",
      "source": [
        "To get access to Gemma:\n",
        "\n",
        "Before using Gemma for the first time, you must request access to the model through Kaggle. As part of the process, you'll have to use a Kaggle account to accept the Gemma use policy and license terms.\n",
        "\n",
        "If you don't already have a Kaggle account, you can register for one at kaggle.com. Then complete the following steps:\n",
        "\n",
        "Go to the Gemma model card and select Request Access.\n",
        "Complete the consent form and accept the terms and conditions."
      ],
      "metadata": {
        "id": "DbY4UEU6tReu"
      }
    },
    {
      "cell_type": "markdown",
      "source": [
        "Select a Colab runtime which is sufficiently powerful to run a GEMMA model:\n",
        "\n",
        "\n",
        "To complete a Colab tutorial, you must have a Colab runtime with sufficient resources to run the Gemma model. To get started, you can use a T4 GPU:\n",
        "\n",
        "In the upper-right of the Colab window, select ▾ (Additional connection options).\n",
        "Select Change runtime type.\n",
        "Under Hardware accelerator, select T4 GPU."
      ],
      "metadata": {
        "id": "OLlAWtaLSDeX"
      }
    },
    {
      "cell_type": "markdown",
      "source": [
        "Configure your API key for GEMMA (from KAGGLE):\n",
        "\n",
        "\n",
        "To use Gemma, you must provide your Kaggle username and a Kaggle API key. To generate and configure these values, follow these steps:\n",
        "\n",
        "To generate a Kaggle API key, go to the Account tab of your Kaggle user profile and select Create New Token. This will trigger the download of a kaggle.json file containing your API credentials.\n",
        "Open kaggle.json in a text editor. The contents should look something like this:   \n",
        "\n",
        "{\"username\":\"garthbtjones\",\"key\":\"4ce6e8889996ae6ce75ac846ffyfy9a0e\"}\n",
        "\n"
      ],
      "metadata": {
        "id": "1lZjh9lnSiNb"
      }
    },
    {
      "cell_type": "markdown",
      "source": [
        "In Colab, select Secrets (🔑) and add your Kaggle username and Kaggle API key in to environment variables aka (here) as secrets. Store your username under the name KAGGLE_USERNAME and your API key under the name KAGGLE_KEY taken from the JSON file which you obtained from KAGGLE (go to settings - API - create token in KAGGLE)."
      ],
      "metadata": {
        "id": "5iNBx3DETnc8"
      }
    },
    {
      "cell_type": "markdown",
      "source": [
        "Now you're ready to complete the remaining setup steps in Colab. If you're working through a Colab tutorial, go to Colab and set the environment variables."
      ],
      "metadata": {
        "id": "yoLwlByeU5gc"
      }
    },
    {
      "cell_type": "code",
      "source": [
        "#setting the environment variables using your colab 'secret' values\n",
        "import os\n",
        "from google.colab import userdata\n",
        "os.environ['KAGGLE_USERNAME'] = userdata.get('KAGGLE_USERNAME')\n",
        "os.environ['KAGGLE_KEY'] = userdata.get('KAGGLE_KEY')"
      ],
      "metadata": {
        "id": "x_l0_vZ-Th7M"
      },
      "execution_count": 1,
      "outputs": []
    },
    {
      "cell_type": "code",
      "source": [],
      "metadata": {
        "id": "YFnZ4UCjtUK3"
      },
      "execution_count": null,
      "outputs": []
    }
  ]
}